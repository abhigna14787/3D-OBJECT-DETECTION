{
 "cells": [
  {
   "cell_type": "code",
   "execution_count": 1,
   "id": "0eb1dbcc",
   "metadata": {},
   "outputs": [
    {
     "name": "stdout",
     "output_type": "stream",
     "text": [
      "Requirement already satisfied: mediapipe in c:\\users\\abhig\\bcb\\new folder\\lib\\site-packages (0.10.9)Note: you may need to restart the kernel to use updated packages.\n",
      "\n",
      "Requirement already satisfied: absl-py in c:\\users\\abhig\\bcb\\new folder\\lib\\site-packages (from mediapipe) (2.1.0)\n",
      "Requirement already satisfied: attrs>=19.1.0 in c:\\users\\abhig\\bcb\\new folder\\lib\\site-packages (from mediapipe) (22.1.0)\n",
      "Requirement already satisfied: flatbuffers>=2.0 in c:\\users\\abhig\\bcb\\new folder\\lib\\site-packages (from mediapipe) (23.5.26)\n",
      "Requirement already satisfied: matplotlib in c:\\users\\abhig\\bcb\\new folder\\lib\\site-packages (from mediapipe) (3.7.2)\n",
      "Requirement already satisfied: numpy in c:\\users\\abhig\\bcb\\new folder\\lib\\site-packages (from mediapipe) (1.24.3)\n",
      "Requirement already satisfied: opencv-contrib-python in c:\\users\\abhig\\bcb\\new folder\\lib\\site-packages (from mediapipe) (4.9.0.80)\n",
      "Requirement already satisfied: protobuf<4,>=3.11 in c:\\users\\abhig\\bcb\\new folder\\lib\\site-packages (from mediapipe) (3.20.3)\n",
      "Requirement already satisfied: sounddevice>=0.4.4 in c:\\users\\abhig\\bcb\\new folder\\lib\\site-packages (from mediapipe) (0.4.6)\n",
      "Requirement already satisfied: CFFI>=1.0 in c:\\users\\abhig\\bcb\\new folder\\lib\\site-packages (from sounddevice>=0.4.4->mediapipe) (1.15.1)\n",
      "Requirement already satisfied: contourpy>=1.0.1 in c:\\users\\abhig\\bcb\\new folder\\lib\\site-packages (from matplotlib->mediapipe) (1.0.5)\n",
      "Requirement already satisfied: cycler>=0.10 in c:\\users\\abhig\\bcb\\new folder\\lib\\site-packages (from matplotlib->mediapipe) (0.11.0)\n",
      "Requirement already satisfied: fonttools>=4.22.0 in c:\\users\\abhig\\bcb\\new folder\\lib\\site-packages (from matplotlib->mediapipe) (4.25.0)\n",
      "Requirement already satisfied: kiwisolver>=1.0.1 in c:\\users\\abhig\\bcb\\new folder\\lib\\site-packages (from matplotlib->mediapipe) (1.4.4)\n",
      "Requirement already satisfied: packaging>=20.0 in c:\\users\\abhig\\bcb\\new folder\\lib\\site-packages (from matplotlib->mediapipe) (23.1)\n",
      "Requirement already satisfied: pillow>=6.2.0 in c:\\users\\abhig\\bcb\\new folder\\lib\\site-packages (from matplotlib->mediapipe) (9.4.0)\n",
      "Requirement already satisfied: pyparsing<3.1,>=2.3.1 in c:\\users\\abhig\\bcb\\new folder\\lib\\site-packages (from matplotlib->mediapipe) (3.0.9)\n",
      "Requirement already satisfied: python-dateutil>=2.7 in c:\\users\\abhig\\bcb\\new folder\\lib\\site-packages (from matplotlib->mediapipe) (2.8.2)\n",
      "Requirement already satisfied: pycparser in c:\\users\\abhig\\bcb\\new folder\\lib\\site-packages (from CFFI>=1.0->sounddevice>=0.4.4->mediapipe) (2.21)\n",
      "Requirement already satisfied: six>=1.5 in c:\\users\\abhig\\bcb\\new folder\\lib\\site-packages (from python-dateutil>=2.7->matplotlib->mediapipe) (1.16.0)\n"
     ]
    }
   ],
   "source": [
    "pip install mediapipe\n"
   ]
  },
  {
   "cell_type": "code",
   "execution_count": 2,
   "id": "ac667d0a",
   "metadata": {},
   "outputs": [
    {
     "name": "stdout",
     "output_type": "stream",
     "text": [
      "Requirement already satisfied: open3d in c:\\users\\abhig\\bcb\\new folder\\lib\\site-packages (0.18.0)\n",
      "Requirement already satisfied: numpy>=1.18.0 in c:\\users\\abhig\\bcb\\new folder\\lib\\site-packages (from open3d) (1.24.3)\n",
      "Requirement already satisfied: dash>=2.6.0 in c:\\users\\abhig\\bcb\\new folder\\lib\\site-packages (from open3d) (2.14.2)\n",
      "Requirement already satisfied: werkzeug>=2.2.3 in c:\\users\\abhig\\bcb\\new folder\\lib\\site-packages (from open3d) (2.2.3)\n",
      "Requirement already satisfied: nbformat>=5.7.0 in c:\\users\\abhig\\bcb\\new folder\\lib\\site-packages (from open3d) (5.9.2)\n",
      "Requirement already satisfied: configargparse in c:\\users\\abhig\\bcb\\new folder\\lib\\site-packages (from open3d) (1.7)\n",
      "Requirement already satisfied: ipywidgets>=8.0.4 in c:\\users\\abhig\\bcb\\new folder\\lib\\site-packages (from open3d) (8.0.4)\n",
      "Requirement already satisfied: Flask<3.1,>=1.0.4 in c:\\users\\abhig\\bcb\\new folder\\lib\\site-packages (from dash>=2.6.0->open3d) (2.2.2)\n",
      "Requirement already satisfied: plotly>=5.0.0 in c:\\users\\abhig\\bcb\\new folder\\lib\\site-packages (from dash>=2.6.0->open3d) (5.9.0)\n",
      "Requirement already satisfied: dash-html-components==2.0.0 in c:\\users\\abhig\\bcb\\new folder\\lib\\site-packages (from dash>=2.6.0->open3d) (2.0.0)\n",
      "Requirement already satisfied: dash-core-components==2.0.0 in c:\\users\\abhig\\bcb\\new folder\\lib\\site-packages (from dash>=2.6.0->open3d) (2.0.0)\n",
      "Requirement already satisfied: dash-table==5.0.0 in c:\\users\\abhig\\bcb\\new folder\\lib\\site-packages (from dash>=2.6.0->open3d) (5.0.0)\n",
      "Requirement already satisfied: typing-extensions>=4.1.1 in c:\\users\\abhig\\bcb\\new folder\\lib\\site-packages (from dash>=2.6.0->open3d) (4.7.1)\n",
      "Requirement already satisfied: requests in c:\\users\\abhig\\bcb\\new folder\\lib\\site-packages (from dash>=2.6.0->open3d) (2.31.0)\n",
      "Requirement already satisfied: retrying in c:\\users\\abhig\\bcb\\new folder\\lib\\site-packages (from dash>=2.6.0->open3d) (1.3.4)\n",
      "Requirement already satisfied: ansi2html in c:\\users\\abhig\\bcb\\new folder\\lib\\site-packages (from dash>=2.6.0->open3d) (1.9.1)\n",
      "Requirement already satisfied: nest-asyncio in c:\\users\\abhig\\bcb\\new folder\\lib\\site-packages (from dash>=2.6.0->open3d) (1.5.6)\n",
      "Requirement already satisfied: setuptools in c:\\users\\abhig\\bcb\\new folder\\lib\\site-packages (from dash>=2.6.0->open3d) (68.0.0)\n",
      "Requirement already satisfied: importlib-metadata in c:\\users\\abhig\\bcb\\new folder\\lib\\site-packages (from dash>=2.6.0->open3d) (6.0.0)\n",
      "Requirement already satisfied: ipykernel>=4.5.1 in c:\\users\\abhig\\appdata\\roaming\\python\\python311\\site-packages (from ipywidgets>=8.0.4->open3d) (6.29.0)\n",
      "Requirement already satisfied: ipython>=6.1.0 in c:\\users\\abhig\\bcb\\new folder\\lib\\site-packages (from ipywidgets>=8.0.4->open3d) (8.15.0)\n",
      "Requirement already satisfied: traitlets>=4.3.1 in c:\\users\\abhig\\bcb\\new folder\\lib\\site-packages (from ipywidgets>=8.0.4->open3d) (5.7.1)\n",
      "Requirement already satisfied: widgetsnbextension~=4.0 in c:\\users\\abhig\\bcb\\new folder\\lib\\site-packages (from ipywidgets>=8.0.4->open3d) (4.0.5)\n",
      "Requirement already satisfied: jupyterlab-widgets~=3.0 in c:\\users\\abhig\\bcb\\new folder\\lib\\site-packages (from ipywidgets>=8.0.4->open3d) (3.0.5)\n",
      "Requirement already satisfied: fastjsonschema in c:\\users\\abhig\\bcb\\new folder\\lib\\site-packages (from nbformat>=5.7.0->open3d) (2.16.2)\n",
      "Requirement already satisfied: jsonschema>=2.6 in c:\\users\\abhig\\bcb\\new folder\\lib\\site-packages (from nbformat>=5.7.0->open3d) (4.17.3)\n",
      "Requirement already satisfied: jupyter-core in c:\\users\\abhig\\bcb\\new folder\\lib\\site-packages (from nbformat>=5.7.0->open3d) (5.3.0)\n",
      "Requirement already satisfied: MarkupSafe>=2.1.1 in c:\\users\\abhig\\bcb\\new folder\\lib\\site-packages (from werkzeug>=2.2.3->open3d) (2.1.1)\n",
      "Requirement already satisfied: Jinja2>=3.0 in c:\\users\\abhig\\bcb\\new folder\\lib\\site-packages (from Flask<3.1,>=1.0.4->dash>=2.6.0->open3d) (3.1.2)\n",
      "Requirement already satisfied: itsdangerous>=2.0 in c:\\users\\abhig\\bcb\\new folder\\lib\\site-packages (from Flask<3.1,>=1.0.4->dash>=2.6.0->open3d) (2.0.1)\n",
      "Requirement already satisfied: click>=8.0 in c:\\users\\abhig\\bcb\\new folder\\lib\\site-packages (from Flask<3.1,>=1.0.4->dash>=2.6.0->open3d) (8.0.4)\n",
      "Requirement already satisfied: comm>=0.1.1 in c:\\users\\abhig\\bcb\\new folder\\lib\\site-packages (from ipykernel>=4.5.1->ipywidgets>=8.0.4->open3d) (0.1.2)\n",
      "Requirement already satisfied: debugpy>=1.6.5 in c:\\users\\abhig\\appdata\\roaming\\python\\python311\\site-packages (from ipykernel>=4.5.1->ipywidgets>=8.0.4->open3d) (1.8.0)\n",
      "Requirement already satisfied: jupyter-client>=6.1.12 in c:\\users\\abhig\\appdata\\roaming\\python\\python311\\site-packages (from ipykernel>=4.5.1->ipywidgets>=8.0.4->open3d) (8.6.0)\n",
      "Requirement already satisfied: matplotlib-inline>=0.1 in c:\\users\\abhig\\bcb\\new folder\\lib\\site-packages (from ipykernel>=4.5.1->ipywidgets>=8.0.4->open3d) (0.1.6)\n",
      "Requirement already satisfied: packaging in c:\\users\\abhig\\bcb\\new folder\\lib\\site-packages (from ipykernel>=4.5.1->ipywidgets>=8.0.4->open3d) (23.1)\n",
      "Requirement already satisfied: psutil in c:\\users\\abhig\\appdata\\roaming\\python\\python311\\site-packages (from ipykernel>=4.5.1->ipywidgets>=8.0.4->open3d) (5.9.7)\n",
      "Requirement already satisfied: pyzmq>=24 in c:\\users\\abhig\\appdata\\roaming\\python\\python311\\site-packages (from ipykernel>=4.5.1->ipywidgets>=8.0.4->open3d) (25.1.2)\n",
      "Requirement already satisfied: tornado>=6.1 in c:\\users\\abhig\\appdata\\roaming\\python\\python311\\site-packages (from ipykernel>=4.5.1->ipywidgets>=8.0.4->open3d) (6.4)\n",
      "Requirement already satisfied: backcall in c:\\users\\abhig\\bcb\\new folder\\lib\\site-packages (from ipython>=6.1.0->ipywidgets>=8.0.4->open3d) (0.2.0)\n",
      "Requirement already satisfied: decorator in c:\\users\\abhig\\bcb\\new folder\\lib\\site-packages (from ipython>=6.1.0->ipywidgets>=8.0.4->open3d) (5.1.1)\n",
      "Requirement already satisfied: jedi>=0.16 in c:\\users\\abhig\\bcb\\new folder\\lib\\site-packages (from ipython>=6.1.0->ipywidgets>=8.0.4->open3d) (0.18.1)\n",
      "Requirement already satisfied: pickleshare in c:\\users\\abhig\\bcb\\new folder\\lib\\site-packages (from ipython>=6.1.0->ipywidgets>=8.0.4->open3d) (0.7.5)\n",
      "Requirement already satisfied: prompt-toolkit!=3.0.37,<3.1.0,>=3.0.30 in c:\\users\\abhig\\bcb\\new folder\\lib\\site-packages (from ipython>=6.1.0->ipywidgets>=8.0.4->open3d) (3.0.36)\n",
      "Requirement already satisfied: pygments>=2.4.0 in c:\\users\\abhig\\bcb\\new folder\\lib\\site-packages (from ipython>=6.1.0->ipywidgets>=8.0.4->open3d) (2.15.1)\n",
      "Requirement already satisfied: stack-data in c:\\users\\abhig\\bcb\\new folder\\lib\\site-packages (from ipython>=6.1.0->ipywidgets>=8.0.4->open3d) (0.2.0)\n",
      "Requirement already satisfied: colorama in c:\\users\\abhig\\bcb\\new folder\\lib\\site-packages (from ipython>=6.1.0->ipywidgets>=8.0.4->open3d) (0.4.6)\n",
      "Requirement already satisfied: attrs>=17.4.0 in c:\\users\\abhig\\bcb\\new folder\\lib\\site-packages (from jsonschema>=2.6->nbformat>=5.7.0->open3d) (22.1.0)\n",
      "Requirement already satisfied: pyrsistent!=0.17.0,!=0.17.1,!=0.17.2,>=0.14.0 in c:\\users\\abhig\\bcb\\new folder\\lib\\site-packages (from jsonschema>=2.6->nbformat>=5.7.0->open3d) (0.18.0)\n",
      "Requirement already satisfied: platformdirs>=2.5 in c:\\users\\abhig\\bcb\\new folder\\lib\\site-packages (from jupyter-core->nbformat>=5.7.0->open3d) (3.10.0)\n",
      "Requirement already satisfied: pywin32>=300 in c:\\users\\abhig\\bcb\\new folder\\lib\\site-packages (from jupyter-core->nbformat>=5.7.0->open3d) (305.1)\n",
      "Requirement already satisfied: tenacity>=6.2.0 in c:\\users\\abhig\\bcb\\new folder\\lib\\site-packages (from plotly>=5.0.0->dash>=2.6.0->open3d) (8.2.2)\n",
      "Requirement already satisfied: zipp>=0.5 in c:\\users\\abhig\\bcb\\new folder\\lib\\site-packages (from importlib-metadata->dash>=2.6.0->open3d) (3.11.0)\n",
      "Requirement already satisfied: charset-normalizer<4,>=2 in c:\\users\\abhig\\bcb\\new folder\\lib\\site-packages (from requests->dash>=2.6.0->open3d) (2.0.4)\n",
      "Requirement already satisfied: idna<4,>=2.5 in c:\\users\\abhig\\bcb\\new folder\\lib\\site-packages (from requests->dash>=2.6.0->open3d) (3.4)\n",
      "Requirement already satisfied: urllib3<3,>=1.21.1 in c:\\users\\abhig\\bcb\\new folder\\lib\\site-packages (from requests->dash>=2.6.0->open3d) (1.26.16)\n",
      "Requirement already satisfied: certifi>=2017.4.17 in c:\\users\\abhig\\bcb\\new folder\\lib\\site-packages (from requests->dash>=2.6.0->open3d) (2023.7.22)\n",
      "Requirement already satisfied: six>=1.7.0 in c:\\users\\abhig\\bcb\\new folder\\lib\\site-packages (from retrying->dash>=2.6.0->open3d) (1.16.0)\n",
      "Requirement already satisfied: parso<0.9.0,>=0.8.0 in c:\\users\\abhig\\bcb\\new folder\\lib\\site-packages (from jedi>=0.16->ipython>=6.1.0->ipywidgets>=8.0.4->open3d) (0.8.3)\n",
      "Requirement already satisfied: python-dateutil>=2.8.2 in c:\\users\\abhig\\bcb\\new folder\\lib\\site-packages (from jupyter-client>=6.1.12->ipykernel>=4.5.1->ipywidgets>=8.0.4->open3d) (2.8.2)\n",
      "Requirement already satisfied: wcwidth in c:\\users\\abhig\\bcb\\new folder\\lib\\site-packages (from prompt-toolkit!=3.0.37,<3.1.0,>=3.0.30->ipython>=6.1.0->ipywidgets>=8.0.4->open3d) (0.2.5)\n",
      "Requirement already satisfied: executing in c:\\users\\abhig\\bcb\\new folder\\lib\\site-packages (from stack-data->ipython>=6.1.0->ipywidgets>=8.0.4->open3d) (0.8.3)\n",
      "Requirement already satisfied: asttokens in c:\\users\\abhig\\bcb\\new folder\\lib\\site-packages (from stack-data->ipython>=6.1.0->ipywidgets>=8.0.4->open3d) (2.0.5)\n",
      "Requirement already satisfied: pure-eval in c:\\users\\abhig\\bcb\\new folder\\lib\\site-packages (from stack-data->ipython>=6.1.0->ipywidgets>=8.0.4->open3d) (0.2.2)\n",
      "Note: you may need to restart the kernel to use updated packages.\n"
     ]
    }
   ],
   "source": [
    "pip install open3d"
   ]
  },
  {
   "cell_type": "code",
   "execution_count": 3,
   "id": "efcbbf14",
   "metadata": {},
   "outputs": [
    {
     "name": "stdout",
     "output_type": "stream",
     "text": [
      "Requirement already satisfied: opencv-contrib-python in c:\\users\\abhig\\bcb\\new folder\\lib\\site-packages (4.9.0.80)\n",
      "Requirement already satisfied: numpy>=1.21.2 in c:\\users\\abhig\\bcb\\new folder\\lib\\site-packages (from opencv-contrib-python) (1.24.3)\n",
      "Note: you may need to restart the kernel to use updated packages.\n"
     ]
    }
   ],
   "source": [
    "pip install opencv-contrib-python"
   ]
  },
  {
   "cell_type": "code",
   "execution_count": null,
   "id": "77ba38d1",
   "metadata": {},
   "outputs": [
    {
     "name": "stdout",
     "output_type": "stream",
     "text": [
      "Jupyter environment detected. Enabling Open3D WebVisualizer.\n",
      "[Open3D INFO] WebRTC GUI backend enabled.\n",
      "[Open3D INFO] WebRTCWindowSystem: HTTP handshake server disabled.\n",
      "[Open3D WARNING] Read PCD failed: unable to open file: lidar.pcd\n"
     ]
    }
   ],
   "source": [
    "import cv2\n",
    "import mediapipe as mp\n",
    "import open3d as o3d # Import the open3d library\n",
    "\n",
    "# Load the image or video \n",
    "image = cv2.imread('download1.jpg')\n",
    "\n",
    "# Initialize the objectron solution\n",
    "mp_objectron = mp.solutions.objectron\n",
    "objectron = mp_objectron.Objectron(static_image_mode=False, max_num_objects=5, min_detection_confidence=0.5, min_tracking_confidence=0.99, model_name='Cup')\n",
    "\n",
    "# Initialize the drawing utils\n",
    "mp_drawing = mp.solutions.drawing_utils\n",
    "drawing_spec = mp_drawing.DrawingSpec(color=(0, 255, 0), thickness=2, circle_radius=2)\n",
    "\n",
    "\n",
    "# video = cv2.VideoCapture('shoe.mp4')\n",
    "\n",
    "# Load the Lidar data\n",
    "lidar_data = 'lidar.pcd' # Change to your Lidar data file path\n",
    "point_cloud = o3d.io.read_point_cloud(lidar_data) # Read the point cloud from the file\n",
    "point_cloud.paint_uniform_color([0.5, 0.5, 0.5]) # Assign a gray color to the point cloud\n",
    "\n",
    "\n",
    "# Convert the image to RGB\n",
    "image = cv2.cvtColor(image, cv2.COLOR_BGR2RGB)\n",
    "\n",
    "# Flip the image horizontally for a selfie-view display\n",
    "image = cv2.flip(image, 1)\n",
    "\n",
    "# Perform object detection\n",
    "results = objectron.process(image)\n",
    "\n",
    "# Create a list of geometries to display\n",
    "geometries = [point_cloud] # Add the point cloud to the list\n",
    "\n",
    "# Draw the 3D bounding boxes and graphical representation on the image\n",
    "if results.detected_objects:\n",
    "    for detected_object in results.detected_objects:\n",
    "        mp_drawing.draw_landmarks(image, detected_object.landmarks_2d, mp_objectron.BOX_CONNECTIONS, drawing_spec, drawing_spec)\n",
    "        mp_drawing.draw_axis(image, detected_object.rotation, detected_object.translation)\n",
    "        # Create a 3D bounding box from the detected object's parameters\n",
    "        bbox = o3d.geometry.OrientedBoundingBox(center=detected_object.translation, R=detected_object.rotation, extent=detected_object.scale)\n",
    "        bbox.color = (0, 1, 0) # Assign a green color to the 3D bounding box\n",
    "        geometries.append(bbox) # Add the 3D bounding box to the list\n",
    "\n",
    "# Convert the image back to BGR\n",
    "image = cv2.cvtColor(image, cv2.COLOR_RGB2BGR)\n",
    "\n",
    "# Display the image or video\n",
    "cv2.imshow('MediaPipe Objectron', image)\n",
    "# if cv2.waitKey(5) & 0xFF == 27:\n",
    "#     breakzzzzz\n",
    "\n",
    "# Display the point cloud and the 3D bounding boxes\n",
    "o3d.visualization.draw_geometries(geometries)\n",
    "\n",
    "# Release the resources\n",
    "# video.release()\n",
    "cv2.destroyAllWindows()\n"
   ]
  },
  {
   "cell_type": "code",
   "execution_count": null,
   "id": "48a5efc8",
   "metadata": {},
   "outputs": [],
   "source": []
  },
  {
   "cell_type": "code",
   "execution_count": null,
   "id": "7b91c5dd",
   "metadata": {},
   "outputs": [],
   "source": []
  },
  {
   "cell_type": "code",
   "execution_count": null,
   "id": "33643e10",
   "metadata": {},
   "outputs": [],
   "source": []
  }
 ],
 "metadata": {
  "kernelspec": {
   "display_name": "Python 3 (ipykernel)",
   "language": "python",
   "name": "python3"
  },
  "language_info": {
   "codemirror_mode": {
    "name": "ipython",
    "version": 3
   },
   "file_extension": ".py",
   "mimetype": "text/x-python",
   "name": "python",
   "nbconvert_exporter": "python",
   "pygments_lexer": "ipython3",
   "version": "3.11.5"
  }
 },
 "nbformat": 4,
 "nbformat_minor": 5
}
